{
 "cells": [
  {
   "cell_type": "code",
   "execution_count": 1,
   "metadata": {},
   "outputs": [],
   "source": [
    "# Useful starting lines\n",
    "%matplotlib inline\n",
    "import numpy as np\n",
    "import matplotlib.pyplot as plt\n",
    "import torch\n",
    "import torch.nn as nn\n",
    "from torch.autograd import Variable\n",
    "%load_ext autoreload\n",
    "%autoreload 2"
   ]
  },
  {
   "cell_type": "code",
   "execution_count": 2,
   "metadata": {},
   "outputs": [],
   "source": [
    "# Defining a toy dataset\n",
    "x_train = np.array([[3.3], [4.4], [5.5], [6.71], [6.93], [4.168], \n",
    "                    [9.779], [6.182], [7.59], [2.167], [7.042], \n",
    "                    [10.791], [5.313], [7.997], [3.1]], dtype=np.float32)\n",
    "\n",
    "y_train = np.array([[1.7], [2.76], [2.09], [3.19], [1.694], [1.573], \n",
    "                    [3.366], [2.596], [2.53], [1.221], [2.827], \n",
    "                        [3.465], [1.65], [2.904], [1.3]], dtype=np.float32)"
   ]
  },
  {
   "cell_type": "markdown",
   "metadata": {},
   "source": [
    "## Linear regression"
   ]
  },
  {
   "cell_type": "code",
   "execution_count": 249,
   "metadata": {},
   "outputs": [],
   "source": [
    "class MyLinearRegression:\n",
    "    def __init__(self):\n",
    "        \"\"\"Define the parameters of the model (weights and biases).\"\"\"\n",
    "        self.w = torch.tensor([0.], requires_grad=True)\n",
    "        self.b = torch.tensor([0.], requires_grad=True)\n",
    "    \n",
    "    def forward(self, x):\n",
    "        \"\"\"Implement forward computation - compute predictions based on the inputs.\"\"\"\n",
    "        y_pred = x * self.w + self.b\n",
    "        return y_pred\n",
    "    \n",
    "    def parameters(self):\n",
    "        \"\"\"Return a list of parameters of the model.\"\"\"\n",
    "        return [\n",
    "            self.w,\n",
    "            self.b\n",
    "        ]\n",
    "    \n",
    "    def __call__(self, x):\n",
    "        \"\"\"Convenience function.\"\"\"\n",
    "        return self.forward(x)\n",
    "    \n",
    "\n",
    "def mselossfunc(pred, y):\n",
    "    \"\"\"Compute MSE\"\"\"\n",
    "    return (y - pred).pow(2).mean()"
   ]
  },
  {
   "cell_type": "code",
   "execution_count": 297,
   "metadata": {},
   "outputs": [
    {
     "name": "stdout",
     "output_type": "stream",
     "text": [
      "Testing model: an input of [0. 1. 2.] gives a prediction:\n",
      " tensor([0., 0., 0.], grad_fn=<AddBackward0>)\n"
     ]
    }
   ],
   "source": [
    "model = MyLinearRegression()\n",
    "numpy_inputs = np.asarray([0.0, 1.0, 2.0], dtype=np.float32)\n",
    "torch_inputs = torch.from_numpy(numpy_inputs)\n",
    "torch_outputs = model(torch_inputs)\n",
    "print(\"Testing model: an input of %s gives a prediction:\\n %s\" % (numpy_inputs, torch_outputs))"
   ]
  },
  {
   "cell_type": "code",
   "execution_count": 298,
   "metadata": {},
   "outputs": [],
   "source": [
    "def train(features, labels, model, lossfunc, optimizer, num_epoch):\n",
    "\n",
    "    for epoch in range(num_epoch):\n",
    "        # TODO: Step 1 - create torch variables corresponding to features and labels\n",
    "        x = torch.from_numpy(features)\n",
    "        y = torch.from_numpy(labels)\n",
    "\n",
    "        # TODO: Step 2 - compute model predictions and loss\n",
    "        y_pred = model(x)\n",
    "        loss = lossfunc(y_pred, y)\n",
    "    \n",
    "        # TODO: Step 3 - do a backward pass and a gradient update step\n",
    "        optimizer.zero_grad()\n",
    "        loss.backward()\n",
    "        optimizer.step()\n",
    "        # Or Manually, w. hard-coded lr:\n",
    "        # with torch.no_grad():\n",
    "        #     print(model.w.grad)\n",
    "        #     model.w -= 1e-3*model.w.grad\n",
    "        #     model.b -= 1e-3*model.b.grad\n",
    "\n",
    "        if epoch % 10 == 0:\n",
    "            print ('Epoch [%d/%d], Loss: %.4f' %(epoch+1, num_epoch, loss.item()))\n",
    "\n",
    "        \n",
    "def visualize(x_train, y_train, model):\n",
    "    # A convenience function for visualizing predictions given by the model\n",
    "\n",
    "    predicted = model(torch.from_numpy(x_train)).data.numpy()\n",
    "    order = np.argsort(x_train, axis=0)\n",
    "    plt.plot(x_train[order].flatten(), y_train[order].flatten(), 'ro', label='Original data')\n",
    "    plt.plot(x_train[order].flatten(), predicted[order].flatten(), label='Fitted line')\n",
    "    plt.legend()\n",
    "    plt.show()"
   ]
  },
  {
   "cell_type": "code",
   "execution_count": 299,
   "metadata": {},
   "outputs": [
    {
     "name": "stdout",
     "output_type": "stream",
     "text": [
      "Epoch [1/50], Loss: 5.9467\n",
      "Epoch [11/50], Loss: 1.1699\n",
      "Epoch [21/50], Loss: 0.3857\n",
      "Epoch [31/50], Loss: 0.2567\n",
      "Epoch [41/50], Loss: 0.2352\n"
     ]
    },
    {
     "data": {
      "image/png": "[encoded data removed]",
      "text/plain": [
       "<Figure size 432x288 with 1 Axes>"
      ]
     },
     "metadata": {
      "needs_background": "light"
     },
     "output_type": "display_data"
    }
   ],
   "source": [
    "# Training and visualizing predictions made by linear regression model\n",
    "optimizer = torch.optim.SGD(model.parameters(), lr=1e-3)\n",
    "\n",
    "train(features=x_train,\n",
    "      labels=y_train,\n",
    "      model=model,\n",
    "      lossfunc=mselossfunc, \n",
    "      optimizer=optimizer,\n",
    "      num_epoch=50)\n",
    "visualize(x_train, y_train, model)"
   ]
  },
  {
   "cell_type": "markdown",
   "metadata": {},
   "source": [
    "## Linear Regression (using nn package)"
   ]
  },
  {
   "cell_type": "code",
   "execution_count": 300,
   "metadata": {},
   "outputs": [
    {
     "name": "stdout",
     "output_type": "stream",
     "text": [
      "Epoch [1/100], Loss: 7.1983\n",
      "Epoch [11/100], Loss: 1.3416\n",
      "Epoch [21/100], Loss: 0.3803\n",
      "Epoch [31/100], Loss: 0.2225\n",
      "Epoch [41/100], Loss: 0.1965\n",
      "Epoch [51/100], Loss: 0.1921\n",
      "Epoch [61/100], Loss: 0.1913\n",
      "Epoch [71/100], Loss: 0.1911\n",
      "Epoch [81/100], Loss: 0.1909\n",
      "Epoch [91/100], Loss: 0.1908\n"
     ]
    },
    {
     "data": {
      "image/png": "[encoded data removed]",
      "text/plain": [
       "<Figure size 432x288 with 1 Axes>"
      ]
     },
     "metadata": {
      "needs_background": "light"
     },
     "output_type": "display_data"
    }
   ],
   "source": [
    "class NNLinearRegression(nn.Module):\n",
    "    def __init__(self):\n",
    "        super(NNLinearRegression, self).__init__()\n",
    "        # TODO: Define the parameters of the model (linear nn layer)\n",
    "        self.model = nn.Sequential(\n",
    "            nn.Linear(\n",
    "                in_features=1,\n",
    "                out_features=1\n",
    "            )\n",
    "        )\n",
    "\n",
    "    def forward(self, x):\n",
    "        return self.model(x)\n",
    "    \n",
    "# Training and visualizing predictions made by linear regression model (nn package)\n",
    "lossfunc = nn.MSELoss(reduction='mean')\n",
    "\n",
    "model = NNLinearRegression()\n",
    "\n",
    "optimizer = torch.optim.SGD(model.parameters(), lr=1e-3)\n",
    "\n",
    "train(features=x_train,\n",
    "      labels=y_train,\n",
    "      model=model,\n",
    "      lossfunc=lossfunc,\n",
    "      optimizer=optimizer,\n",
    "      num_epoch=100)\n",
    "visualize(x_train, y_train, model)"
   ]
  },
  {
   "cell_type": "markdown",
   "metadata": {},
   "source": [
    "The results are a bit different. One thing that is different is the number of epochs, i.e. the number of batches that are run throguh to train the model."
   ]
  },
  {
   "cell_type": "markdown",
   "metadata": {},
   "source": [
    "## MLP"
   ]
  },
  {
   "cell_type": "code",
   "execution_count": 449,
   "metadata": {},
   "outputs": [
    {
     "name": "stdout",
     "output_type": "stream",
     "text": [
      "Epoch [1/300], Loss: 4.1009\n",
      "Epoch [11/300], Loss: 1.1750\n",
      "Epoch [21/300], Loss: 0.5011\n",
      "Epoch [31/300], Loss: 0.5445\n",
      "Epoch [41/300], Loss: 0.3876\n",
      "Epoch [51/300], Loss: 0.3555\n",
      "Epoch [61/300], Loss: 0.3008\n",
      "Epoch [71/300], Loss: 0.2593\n",
      "Epoch [81/300], Loss: 0.2245\n",
      "Epoch [91/300], Loss: 0.2004\n",
      "Epoch [101/300], Loss: 0.1857\n",
      "Epoch [111/300], Loss: 0.1803\n",
      "Epoch [121/300], Loss: 0.1782\n",
      "Epoch [131/300], Loss: 0.1768\n",
      "Epoch [141/300], Loss: 0.1757\n",
      "Epoch [151/300], Loss: 0.1749\n",
      "Epoch [161/300], Loss: 0.1743\n",
      "Epoch [171/300], Loss: 0.1738\n",
      "Epoch [181/300], Loss: 0.1733\n",
      "Epoch [191/300], Loss: 0.1729\n",
      "Epoch [201/300], Loss: 0.1726\n",
      "Epoch [211/300], Loss: 0.1723\n",
      "Epoch [221/300], Loss: 0.1720\n",
      "Epoch [231/300], Loss: 0.1717\n",
      "Epoch [241/300], Loss: 0.1715\n",
      "Epoch [251/300], Loss: 0.1713\n",
      "Epoch [261/300], Loss: 0.1711\n",
      "Epoch [271/300], Loss: 0.1709\n",
      "Epoch [281/300], Loss: 0.1707\n",
      "Epoch [291/300], Loss: 0.1705\n"
     ]
    },
    {
     "data": {
      "image/png": "[encoded data removed]",
      "text/plain": [
       "<Figure size 432x288 with 1 Axes>"
      ]
     },
     "metadata": {
      "needs_background": "light"
     },
     "output_type": "display_data"
    }
   ],
   "source": [
    "class MLP(nn.Module):\n",
    "    def __init__(self, hidden_size):\n",
    "        super(MLP, self).__init__()\n",
    "        # TODO: Define parameters / layers of a multi-layered perceptron with one hidden layer\n",
    "        self.model = nn.Sequential(\n",
    "            nn.Linear(1, hidden_size),\n",
    "            nn.Sigmoid(),\n",
    "            nn.Linear(hidden_size, 1),\n",
    "        )\n",
    "    \n",
    "    def forward(self, x):\n",
    "        return self.model(x)\n",
    "    \n",
    "# TODO: Play with learning rate, hidden size, and optimizer type for multi-layered perceptron\n",
    "hidden_size = 20\n",
    "learning_rate = 1e-2\n",
    "\n",
    "model = MLP(hidden_size=hidden_size)\n",
    "\n",
    "optimizer = torch.optim.Adam(params=model.parameters(), lr=learning_rate)\n",
    "\n",
    "train(features=x_train,\n",
    "      labels=y_train,\n",
    "      model=model,\n",
    "      lossfunc=lossfunc,\n",
    "      optimizer=optimizer,\n",
    "      num_epoch=300)\n",
    "visualize(x_train, y_train, model)"
   ]
  }
 ],
 "metadata": {
  "kernelspec": {
   "display_name": "Python 3",
   "language": "python",
   "name": "python3"
  },
  "language_info": {
   "codemirror_mode": {
    "name": "ipython",
    "version": 3
   },
   "file_extension": ".py",
   "mimetype": "text/x-python",
   "name": "python",
   "nbconvert_exporter": "python",
   "pygments_lexer": "ipython3",
   "version": "3.7.7"
  }
 },
 "nbformat": 4,
 "nbformat_minor": 4
}
